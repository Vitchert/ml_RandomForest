{
 "cells": [
  {
   "cell_type": "code",
   "execution_count": 2,
   "metadata": {
    "collapsed": true
   },
   "outputs": [],
   "source": [
    "import numpy as np\n",
    "import pandas"
   ]
  },
  {
   "cell_type": "code",
   "execution_count": 58,
   "metadata": {
    "collapsed": false
   },
   "outputs": [],
   "source": [
    "data = pandas.read_csv('biodeg.csv',sep=\";|,\", engine=\"python\",header=None)\n",
    "mapping = {'RB': 1, 'NRB': 2}\n",
    "data = data.replace({41: mapping})\n",
    "cols = data.columns.tolist()\n",
    "cols = cols[-1:] + cols[:-1]\n",
    "data = data[cols]\n",
    "data\n",
    "np.savetxt(r'C:\\Users\\Vaman\\Documents\\Machine Learning\\ml\\RandomForest\\python\\np.txt', data.values, fmt='%f')"
   ]
  },
  {
   "cell_type": "code",
   "execution_count": 51,
   "metadata": {
    "collapsed": false
   },
   "outputs": [],
   "source": [
    "from sklearn.ensemble import RandomForestClassifier\n",
    "from sklearn.cross_validation import cross_val_score\n",
    "from sklearn.cross_validation import KFold\n",
    "from sklearn.metrics import r2_score\n",
    "Y = data[41]\n",
    "X = np.array(data.drop(41,1))"
   ]
  },
  {
   "cell_type": "code",
   "execution_count": 52,
   "metadata": {
    "collapsed": false
   },
   "outputs": [
    {
     "data": {
      "text/plain": [
       "[0.87109004739336504]"
      ]
     },
     "execution_count": 52,
     "metadata": {},
     "output_type": "execute_result"
    }
   ],
   "source": [
    "kf = KFold(len(Y),n_folds=5, shuffle=True, random_state=1)\n",
    "res = []\n",
    "i = 1000\n",
    "clf = RandomForestClassifier(n_estimators=i, random_state = 1, n_jobs=6)\n",
    "knr = cross_val_score(clf, X, y = Y, cv = kf, scoring='accuracy')\n",
    "res.append(knr.mean())\n",
    "res"
   ]
  },
  {
   "cell_type": "code",
   "execution_count": 49,
   "metadata": {
    "collapsed": false
   },
   "outputs": [],
   "source": [
    "data = pandas.read_csv('voice.csv')\n",
    "data.head()\n",
    "mapping = {'male': 1, 'female': 2}\n",
    "data = data.replace({'label': mapping})\n",
    "data.head()\n",
    "cols = data.columns.tolist()\n",
    "cols = cols[-1:] + cols[:-1]\n",
    "data = data[cols]\n",
    "np.savetxt(r'C:\\Users\\Vaman\\Documents\\Machine Learning\\ml\\RandomForest\\python\\voice.txt', data.values, fmt='%f')"
   ]
  },
  {
   "cell_type": "code",
   "execution_count": 57,
   "metadata": {
    "collapsed": false
   },
   "outputs": [],
   "source": [
    "data = pandas.read_csv('responses.csv')\n",
    "mapping = {'male': 1, 'female': 2}\n",
    "data = data.replace({'Gender': mapping})\n",
    "data = pandas.get_dummies(data)\n",
    "cols = data.columns.tolist()\n",
    "cols.insert(0, cols.pop(cols.index('Gender')))\n",
    "data = data[cols]\n",
    "data = data.dropna(axis=0, how='any')\n",
    "np.savetxt(r'C:\\Users\\Vaman\\Documents\\Machine Learning\\ml\\RandomForest\\python\\responses.txt', data.values, fmt='%f')"
   ]
  },
  {
   "cell_type": "code",
   "execution_count": null,
   "metadata": {
    "collapsed": true
   },
   "outputs": [],
   "source": []
  }
 ],
 "metadata": {
  "anaconda-cloud": {},
  "kernelspec": {
   "display_name": "Python [conda root]",
   "language": "python",
   "name": "conda-root-py"
  },
  "language_info": {
   "codemirror_mode": {
    "name": "ipython",
    "version": 2
   },
   "file_extension": ".py",
   "mimetype": "text/x-python",
   "name": "python",
   "nbconvert_exporter": "python",
   "pygments_lexer": "ipython2",
   "version": "2.7.12"
  }
 },
 "nbformat": 4,
 "nbformat_minor": 1
}
